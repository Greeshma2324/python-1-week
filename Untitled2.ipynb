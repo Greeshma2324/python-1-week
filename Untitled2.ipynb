{
 "cells": [
  {
   "cell_type": "code",
   "execution_count": null,
   "id": "cf00f9a5-e9ee-42df-8270-f21ee546a84f",
   "metadata": {},
   "outputs": [],
   "source": [
    "firstname=\"greeshma\"\n",
    "print(firstname)"
   ]
  },
  {
   "cell_type": "code",
   "execution_count": null,
   "id": "0a0ed10d-fd61-400e-beca-b387d1f2a3ed",
   "metadata": {},
   "outputs": [],
   "source": [
    "first_name=\"greshu\"\n",
    "print(first_name)"
   ]
  },
  {
   "cell_type": "code",
   "execution_count": 18,
   "id": "95cf784b-55a4-47c7-9aae-d4ca282ceaa4",
   "metadata": {},
   "outputs": [
    {
     "name": "stdout",
     "output_type": "stream",
     "text": [
      "greeshma\n"
     ]
    }
   ],
   "source": [
    "name1=\"greeshma\"\n",
    "print(name1)"
   ]
  },
  {
   "cell_type": "code",
   "execution_count": 20,
   "id": "b762f237-6f7f-4ff7-82cf-b0e59c9de3b1",
   "metadata": {},
   "outputs": [
    {
     "name": "stdout",
     "output_type": "stream",
     "text": [
      "greeshu\n"
     ]
    }
   ],
   "source": [
    "name=\"greeshu\"\n",
    "print(name)"
   ]
  },
  {
   "cell_type": "code",
   "execution_count": null,
   "id": "e09225a2-0a72-4d3f-a49b-061d7861ab0d",
   "metadata": {},
   "outputs": [],
   "source": [
    "name=\"greeshu\"\n",
    "p"
   ]
  }
 ],
 "metadata": {
  "kernelspec": {
   "display_name": "Python 3 (ipykernel)",
   "language": "python",
   "name": "python3"
  },
  "language_info": {
   "codemirror_mode": {
    "name": "ipython",
    "version": 3
   },
   "file_extension": ".py",
   "mimetype": "text/x-python",
   "name": "python",
   "nbconvert_exporter": "python",
   "pygments_lexer": "ipython3",
   "version": "3.12.4"
  }
 },
 "nbformat": 4,
 "nbformat_minor": 5
}
